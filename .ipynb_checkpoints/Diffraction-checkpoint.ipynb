{
 "cells": [
  {
   "cell_type": "markdown",
   "id": "incoming-convert",
   "metadata": {},
   "source": [
    "# Diffraction\n",
    "\n",
    "Diffraction wither circle aperture"
   ]
  },
  {
   "cell_type": "code",
   "execution_count": null,
   "id": "early-asbestos",
   "metadata": {},
   "outputs": [],
   "source": [
    "import numpy as np\n",
    "import matplotlib.pyplot as plt\n",
    "from mpl_toolkits.mplot3d import Axes3D   # this is for surface plots\n",
    "from matplotlib import cm\n",
    "%matplotlib inline"
   ]
  },
  {
   "cell_type": "markdown",
   "id": "broadband-audit",
   "metadata": {},
   "source": [
    "Opitical Parameters\n",
    "\n",
    "All units are in SI!!!!"
   ]
  },
  {
   "cell_type": "code",
   "execution_count": null,
   "id": "empty-hurricane",
   "metadata": {},
   "outputs": [],
   "source": [
    "pupilcenter=(0,0,0)\n",
    "\n",
    "focalcenter=(1,0,0)\n",
    "\n",
    "lambdacenter=0.45e-6\n",
    "lambdawide=0.15e-6"
   ]
  },
  {
   "cell_type": "markdown",
   "id": "utility-yeast",
   "metadata": {},
   "source": [
    "Useful TF functions"
   ]
  },
  {
   "cell_type": "code",
   "execution_count": null,
   "id": "unable-techno",
   "metadata": {},
   "outputs": [],
   "source": [
    "def ft2d(func):\n",
    "    ft = np.fft.fftshift(np.fft.fft2(np.fft.ifftshift(func)))\n",
    "    return ft\n",
    "\n",
    "def ift2d(func):\n",
    "    ift = np.fft.fftshift(np.fft.ifft2(np.fft.ifftshift(func)))\n",
    "    return ift\n",
    "\n",
    "def ft1d_freq(x):\n",
    "    \"\"\"Calculate the (spatial) frequency array based on the spatial array x.\"\"\"\n",
    "    s = np.fft.fftshift(np.fft.fftfreq(x.size, d=x[-1]-x[-2]))\n",
    "    return s\n",
    "\n",
    "def zoom(im, x, y, bb):\n",
    "    \"\"\"Cut out a square box from image im centered on (x,y) with half-box size bb.\"\"\"\n",
    "    return(im[y-bb:y+bb,x-bb:x+bb])\n",
    "\n",
    "def padcplx(c, pad=5):\n",
    "    \"\"\"Puts a Complex array in the centre of a zero-filled Complex array.\n",
    "    pad defines the padding multiplier for the output array.\"\"\"\n",
    "    (nx, ny) = c.shape\n",
    "    bignx = nx * pad + 1\n",
    "    bigny = ny * pad + 1\n",
    "    big_c = np.zeros((bignx, bigny), dtype=complex)\n",
    "    \n",
    "    dx = int((nx * (pad-1)) / 2 + 1)\n",
    "    dy = int((ny * (pad-1)) / 2 + 1)\n",
    "    \n",
    "    big_c[dx:dx+nx,dy:dy+ny] = c\n",
    "    return(big_c)\n",
    "\n",
    "#Grids\n",
    "npix = 512\n",
    "pad = 5\n",
    "npix_pad = npix*pad+1   # figure out the padded big array sizes after the FT"
   ]
  },
  {
   "cell_type": "markdown",
   "id": "collaborative-frontier",
   "metadata": {},
   "source": [
    "Pupile plan"
   ]
  },
  {
   "cell_type": "code",
   "execution_count": null,
   "id": "handed-update",
   "metadata": {},
   "outputs": [],
   "source": [
    "# Define a function for a circular aperture\n",
    "def circle_mask(im, xc, yc, rcirc):\n",
    "    \"\"\"Create a circular aperture centered on (xc, yc) with radius rcirc.\"\"\"\n",
    "    x, y = np.shape(im)\n",
    "    newy, newx = np.mgrid[:y,:x]\n",
    "    circ = (newx-xc)**2 + (newy-yc)**2 < rcirc**2\n",
    "    return circ.astype('float')\n",
    "\n",
    "rad = 0.7 * npix/2   # radius in pixels of the circular aperture\n",
    "lin = np.linspace(-0.5, 0.5, npix)\n",
    "xx, yy = np.meshgrid(lin, lin)\n",
    "aperture = circle_mask(xx, int(npix/2), int(npix/2), rad)\n",
    "\n"
   ]
  },
  {
   "cell_type": "markdown",
   "id": "modern-arkansas",
   "metadata": {},
   "source": [
    "Focal plan"
   ]
  },
  {
   "cell_type": "code",
   "execution_count": null,
   "id": "collect-buying",
   "metadata": {},
   "outputs": [],
   "source": [
    "circ_ft = ft2d(padcplx(aperture))\n",
    "\n",
    "# Create a circular aperture\n",
    "rad = 0.7 * npix/2   # radius in pixels of the circular aperture\n",
    "aperture = circle_mask(xx, int(npix/2), int(npix/2), rad)"
   ]
  },
  {
   "cell_type": "code",
   "execution_count": null,
   "id": "joint-killer",
   "metadata": {},
   "outputs": [],
   "source": [
    "# Plot\n",
    "zoomfac = 30     # half-size of the zoom box will be 1/zoomfac of total image\n",
    "box = int(npix_pad/zoomfac)\n",
    "\n",
    "# This is a smaller data array wiht our region of interest.\n",
    "circ_ft_zoom = zoom(circ_ft, int(npix_pad/2), int(npix_pad/2), box)\n",
    "plt.figure(figsize=(25, 25))\n",
    "\n",
    "plt.subplot(2, 5, 1)\n",
    "plt.imshow(aperture)\n",
    "plt.title('Pupil plan - Amplitude')\n",
    "\n",
    "plt.subplot(2, 5, 2)\n",
    "plt.imshow(np.abs(aperture)**2)\n",
    "plt.title('Pupil plan - Intensity')\n",
    "\n",
    "plt.subplot(2, 5, 6)\n",
    "plt.imshow(np.abs(circ_ft_zoom))\n",
    "plt.title('Focal plan - Amplitude aka OTF')\n",
    "\n",
    "plt.subplot(2, 5, 7)\n",
    "plt.imshow(np.abs(circ_ft_zoom)**2)\n",
    "plt.title('Focal plan - Intensity aka PSF')\n",
    "\n",
    "plt.subplot(2, 5, 9)\n",
    "plt.imshow(np.real(circ_ft_zoom))\n",
    "plt.title('Focal plan - Real part')\n",
    "\n",
    "plt.subplot(2, 5, 10)\n",
    "plt.imshow(np.imag(circ_ft_zoom))\n",
    "plt.title('Focal plan - Imaginary part')"
   ]
  },
  {
   "cell_type": "code",
   "execution_count": null,
   "id": "annoying-fence",
   "metadata": {},
   "outputs": [],
   "source": []
  },
  {
   "cell_type": "code",
   "execution_count": null,
   "id": "stylish-andrew",
   "metadata": {},
   "outputs": [],
   "source": []
  },
  {
   "cell_type": "code",
   "execution_count": null,
   "id": "retained-growing",
   "metadata": {},
   "outputs": [],
   "source": []
  },
  {
   "cell_type": "code",
   "execution_count": null,
   "id": "thirty-round",
   "metadata": {},
   "outputs": [],
   "source": []
  }
 ],
 "metadata": {
  "kernelspec": {
   "display_name": "Python 3",
   "language": "python",
   "name": "python3"
  },
  "language_info": {
   "codemirror_mode": {
    "name": "ipython",
    "version": 3
   },
   "file_extension": ".py",
   "mimetype": "text/x-python",
   "name": "python",
   "nbconvert_exporter": "python",
   "pygments_lexer": "ipython3",
   "version": "3.7.10"
  }
 },
 "nbformat": 4,
 "nbformat_minor": 5
}
