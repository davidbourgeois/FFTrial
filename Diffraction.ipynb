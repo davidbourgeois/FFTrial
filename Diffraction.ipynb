{
 "cells": [
  {
   "cell_type": "markdown",
   "id": "incoming-convert",
   "metadata": {},
   "source": [
    "# Diffraction\n",
    "\n",
    "Diffraction with circle aperture"
   ]
  },
  {
   "cell_type": "code",
   "execution_count": null,
   "id": "early-asbestos",
   "metadata": {},
   "outputs": [],
   "source": [
    "import numpy as np\n",
    "import matplotlib.pyplot as plt\n",
    "from mpl_toolkits.mplot3d import Axes3D   # this is for surface plots\n",
    "from matplotlib import cm\n",
    "from PIL import Image, ImageDraw\n",
    "from astropy.io import fits\n",
    "%matplotlib inline"
   ]
  },
  {
   "cell_type": "markdown",
   "id": "broadband-audit",
   "metadata": {},
   "source": [
    "Opitical Parameters\n",
    "\n",
    "All units are in SI!!!!"
   ]
  },
  {
   "cell_type": "code",
   "execution_count": null,
   "id": "empty-hurricane",
   "metadata": {},
   "outputs": [],
   "source": [
    "pupilcenter=(0,0,0)\n",
    "\n",
    "focalcenter=(1,0,0)\n",
    "\n",
    "lambdacenter=0.45e-6\n",
    "lambdawide=0.15e-6"
   ]
  },
  {
   "cell_type": "markdown",
   "id": "utility-yeast",
   "metadata": {},
   "source": [
    "Useful TF functions"
   ]
  },
  {
   "cell_type": "code",
   "execution_count": null,
   "id": "unable-techno",
   "metadata": {},
   "outputs": [],
   "source": [
    "def ft2d(func):\n",
    "    ft = np.fft.fftshift(np.fft.fft2(np.fft.ifftshift(func)))\n",
    "    return ft\n",
    "\n",
    "def ift2d(func):\n",
    "    ift = np.fft.fftshift(np.fft.ifft2(np.fft.ifftshift(func)))\n",
    "    return ift\n",
    "\n",
    "def ft1d_freq(x):\n",
    "    \"\"\"Calculate the (spatial) frequency array based on the spatial array x.\"\"\"\n",
    "    s = np.fft.fftshift(np.fft.fftfreq(x.size, d=x[-1]-x[-2]))\n",
    "    return s\n",
    "\n",
    "def zoom(im, x, y, bb):\n",
    "    \"\"\"Cut out a square box from image im centered on (x,y) with half-box size bb.\"\"\"\n",
    "    return(im[y-bb:y+bb,x-bb:x+bb])\n",
    "\n",
    "def padcplx(c, pad=4):\n",
    "    \"\"\"Puts a Complex array in the centre of a zero-filled Complex array.\n",
    "    pad defines the padding multiplier for the output array.\"\"\"\n",
    "    (nx, ny) = c.shape\n",
    "    bignx = nx * pad + 1\n",
    "    bigny = ny * pad + 1\n",
    "    big_c = np.zeros((bignx, bigny), dtype=complex)\n",
    "    \n",
    "    dx = int((nx * (pad-1)) / 2 + 1)\n",
    "    dy = int((ny * (pad-1)) / 2 + 1)\n",
    "    \n",
    "    big_c[dx:dx+nx,dy:dy+ny] = c\n",
    "    return(big_c)"
   ]
  },
  {
   "cell_type": "code",
   "execution_count": null,
   "id": "collected-celebrity",
   "metadata": {},
   "outputs": [],
   "source": [
    "#Plotting function!\n",
    "\n",
    "def multi_plot(func, title):\n",
    "    #Some fancy stuff  \n",
    "    plt.figure(figsize=(50, 10))\n",
    "    plt.axis('equal')\n",
    "    font = {' - size'   : 25}\n",
    "\n",
    "    plt.subplot(1, 5, 1)\n",
    "    plt.imshow(np.abs(func))\n",
    "    plt.colorbar()\n",
    "    plt.title(title+' - Amplitude')\n",
    "\n",
    "    plt.subplot(1, 5, 2)\n",
    "    plt.imshow(np.log(np.abs(func)**2))\n",
    "    plt.colorbar()\n",
    "    plt.title(title+' - log(I) aka log(PSF)')\n",
    "\n",
    "    plt.subplot(1, 5, 3)\n",
    "    plt.imshow(np.real(func),cmap='RdBu')\n",
    "    plt.colorbar()\n",
    "    plt.title(title+' - Real part')\n",
    "\n",
    "    plt.subplot(1, 5, 4)\n",
    "    plt.imshow(np.imag(func),cmap='RdBu')\n",
    "    plt.colorbar()\n",
    "    plt.title(title+' - Imaginary part')\n",
    "\n",
    "    plt.subplot(1, 5, 5)\n",
    "    plt.imshow(np.angle(func) ,cmap='RdBu')\n",
    "    plt.colorbar()\n",
    "    plt.title(title+' - Phase')\n",
    "    return()"
   ]
  },
  {
   "cell_type": "markdown",
   "id": "collaborative-frontier",
   "metadata": {},
   "source": [
    "Pupile plan\n",
    "\n",
    "1 Form\n",
    "\n",
    "2 Amplitude\n",
    "\n",
    "3 Phase"
   ]
  },
  {
   "cell_type": "code",
   "execution_count": null,
   "id": "handed-update",
   "metadata": {},
   "outputs": [],
   "source": [
    "#Amplitude\n",
    "\n",
    "# Define a function for a circular aperture\n",
    "def circle_mask(im, xc, yc, rcirc):\n",
    "    \"\"\"Create a circular aperture centered on (xc, yc) with radius rcirc.\"\"\"\n",
    "    x, y = np.shape(im)\n",
    "    newy, newx = np.mgrid[:y,:x]\n",
    "    circ = (newx-xc)**2 + (newy-yc)**2 < rcirc**2\n",
    "    return circ.astype('float')\n",
    "\n",
    "rad = 0.7 * npix/2\n",
    "\n",
    "def hexagone_mask(im, xc, yc):\n",
    "#https://stackoverflow.com/posts/3732128/edit\n",
    "    x, y = np.shape(im)\n",
    "    newy, newx = np.mgrid[:y,:x]\n",
    "    h=npix/4\n",
    "    \n",
    "    x1=xc+h\n",
    "    x2=xc+0.5*h\n",
    "    x3=xc-0.5*h\n",
    "    x4=xc-h\n",
    "    x5=xc-0.5*h\n",
    "    x6=xc+0.5*h\n",
    "    y1=yc\n",
    "    y2=yc+h*np.sqrt(3/2)\n",
    "    y3=yc+h*np.sqrt(3/2)\n",
    "    y4=yc\n",
    "    y5=yc-h*np.sqrt(3/2)\n",
    "    y6=yc-h*np.sqrt(3/2)\n",
    "      \n",
    "    polygon = [(x1,y1),(x2,y2),(x3,y3),(x4,y4),(x5,y5),(x6,y6)]\n",
    "    width = npix\n",
    "    height = npix\n",
    "\n",
    "    #Create image and convert to array\n",
    "    img = Image.new('L', (width, height), 0)\n",
    "    ImageDraw.Draw(img).polygon(polygon, outline=1, fill=1)\n",
    "    img=grid*img\n",
    "\n",
    "    return img\n",
    "\n",
    "def crop_center(img,cropx,cropy):\n",
    "    y,x = img.shape\n",
    "    startx = x//2-(cropx//2)\n",
    "    starty = y//2-(cropy//2)    \n",
    "    return img[starty:starty+cropy,startx:startx+cropx]\n",
    "\n",
    "\n",
    "aperture=circle_mask(grid, int(npix/2), int(npix/2), rad)\n",
    "#aperture=hexagone_mask(grid, int(npix/2), int(npix/2))\n",
    "#aperture=fits.getdata('..\\..\\JWST_pupil.fits')\n",
    "\n",
    "\n",
    "#Grids\n",
    "npix = 101 #FFT need a centering grid put a ODD\n",
    "grid=np.full(shape=(npix,npix),fill_value=1)\n",
    "plt.imshow(aperture)\n",
    "plt.colorbar()\n",
    "plt.title('Aperture')"
   ]
  },
  {
   "cell_type": "code",
   "execution_count": null,
   "id": "earlier-miami",
   "metadata": {},
   "outputs": [],
   "source": [
    "def zernike (Az, xc, yc, grid, norma):\n",
    "    zer=grid*0\n",
    "    \n",
    "    lin = np.linspace(0-xc, npix-xc, npix)\n",
    "    xx, yy = np.meshgrid(lin, lin)\n",
    "\n",
    "    lin = np.linspace(0-xc, npix-xc, npix)\n",
    "    xx, yy = np.meshgrid(lin, lin)\n",
    "    rho=np.sqrt(xx**2+yy**2)\n",
    "    rho/=norma\n",
    "    theta=-np.arctan2(yy,-xx)\n",
    "    \n",
    "    #TODO Generalizeit!\n",
    "    Z=[1,\n",
    "       2*rho*np.cos(theta),2*rho*np.sin(theta),\n",
    "       np.sqrt(6)*rho**2*np.cos(2*theta),np.sqrt(3)*(rho**2-1),np.sqrt(6)*rho**2*np.sin(2*theta)]\n",
    "    for i in range (len(Az)):\n",
    "        zer=zer+Az[i]*Z[i]\n",
    "    return zer\n",
    "\n",
    "Az=[0,0,0,0,0,0]\n",
    "\n",
    "xc=int(npix/2)+npix%2\n",
    "yc=xc\n",
    "phi=zernike(Az, xc, yc, grid, rad)*aperture\n",
    "\n",
    "plt.imshow(phi,cmap='RdBu')\n",
    "plt.colorbar()"
   ]
  },
  {
   "cell_type": "code",
   "execution_count": null,
   "id": "continued-rebecca",
   "metadata": {},
   "outputs": [],
   "source": [
    "#Electrical Field afetr aperture\n",
    "Efield=aperture*np.exp(1j*phi)\n",
    "\n",
    "multi_plot(Efield, \"PP Eletric field\")\n"
   ]
  },
  {
   "cell_type": "markdown",
   "id": "modern-arkansas",
   "metadata": {},
   "source": [
    "Focal plan\n",
    "\n",
    "1 TF aperture\n",
    "\n",
    "2 Make coronaph aperture\n",
    "\n",
    "3 Multiply TF and coronagraph"
   ]
  },
  {
   "cell_type": "code",
   "execution_count": null,
   "id": "atlantic-effectiveness",
   "metadata": {},
   "outputs": [],
   "source": [
    "focalplan_BC = ft2d(padcplx(Efield))\n",
    "\n",
    "#Box rezize\n",
    "pad = 5\n",
    "npix_pad = npix*pad+1   # figure out the padded big array sizes after the FT\n",
    "zoomfac =10     # half-size of the zoom box will be 1/zoomfac of total image\n",
    "box = int(npix_pad/zoomfac)\n",
    "# This is a smaller data array wiht our region of interest.\n",
    "focalplan_BC_zoom = zoom(focalplan_BC, int(focalplan_BC.shape[0]/2), int(focalplan_BC.shape[0]/2), box)\n",
    "\n",
    "multi_plot(focalplan_BC_zoom, \"FP\")\n",
    "\n"
   ]
  },
  {
   "cell_type": "markdown",
   "id": "former-deviation",
   "metadata": {},
   "source": [
    "#Coronagraph\n",
    "\n",
    "\n"
   ]
  },
  {
   "cell_type": "code",
   "execution_count": null,
   "id": "coral-capital",
   "metadata": {},
   "outputs": [],
   "source": [
    "CLC=1-circle_mask(focalplan_BC, int(focalplan_BC.shape[0]/2), int(focalplan_BC.shape[0]/2), rad*0.9)\n",
    "focalplan_AC=focalplan_BC*CLC\n",
    "B_Lyot = ft2d(focalplan_AC)\n",
    "\n",
    "#Box rezize\n",
    "pad = 5\n",
    "npix_pad = npix*pad+1   # figure out the padded big array sizes after the FT\n",
    "zoomfac =10   # half-size of the zoom box will be 1/zoomfac of total image\n",
    "box = int(npix_pad/zoomfac)\n",
    "\n",
    "# This is a smaller data array wiht our region of interest.\n",
    "focalplan_AC_zoom = zoom(focalplan_AC, int(focalplan_AC.shape[0]/2), int(focalplan_AC.shape[0]/2), box)\n",
    "\n",
    "\n",
    "multi_plot(focalplan_AC_zoom, \"FP AC\")\n",
    "multi_plot(B_Lyot, \"LP BL\")"
   ]
  },
  {
   "cell_type": "markdown",
   "id": "personalized-reputation",
   "metadata": {},
   "source": [
    "LyotStop plan\n",
    "\n",
    "1 TF focal pla after Conagraph\n",
    "\n",
    "2 Make (Lyotstop) aperture\n",
    "\n",
    "3 Multiply TF and (Lyotstop) aperture"
   ]
  },
  {
   "cell_type": "code",
   "execution_count": null,
   "id": "direct-introduction",
   "metadata": {},
   "outputs": [],
   "source": [
    "Lyot=circle_mask(B_Lyot, int(B_Lyot.shape[0]/2), int(B_Lyot.shape[0]/2), rad*0.98)\n",
    "A_Lyot=B_Lyot*Lyot\n",
    "\n",
    "#Box rezize\n",
    "pad = 5\n",
    "npix_pad = npix*pad+1   # figure out the padded big array sizes after the FT\n",
    "zoomfac =7   # half-size of the zoom box will be 1/zoomfac of total image\n",
    "box = int(npix_pad/zoomfac)\n",
    "\n",
    "# This is a smaller data array wiht our region of interest.\n",
    "A_Lyot_zoom = zoom(A_Lyot, int(A_Lyot.shape[0]/2), int(A_Lyot.shape[0]/2), box)\n",
    "\n",
    "multi_plot(A_Lyot, \"LP AL\")"
   ]
  },
  {
   "cell_type": "code",
   "execution_count": null,
   "id": "protecting-berry",
   "metadata": {},
   "outputs": [],
   "source": [
    "screen=ft2d(A_Lyot)\n",
    "\n",
    "#Box rezize\n",
    "pad = 5\n",
    "npix_pad = npix*pad+1   # figure out the padded big array sizes after the FT\n",
    "zoomfac =10   # half-size of the zoom box will be 1/zoomfac of total image\n",
    "box = int(npix_pad/zoomfac)\n",
    "\n",
    "# This is a smaller data array wiht our region of interest.\n",
    "screen_zoom = zoom(screen, int(screen.shape[0]/2), int(screen.shape[0]/2), box)\n",
    "\n",
    "multi_plot(screen, \"Screen\")\n"
   ]
  },
  {
   "cell_type": "code",
   "execution_count": null,
   "id": "annoying-fence",
   "metadata": {
    "scrolled": false
   },
   "outputs": [],
   "source": [
    "#PINAL ploting Cell\n",
    "\n",
    "multi_plot(Efield, \"PP Eletric field\")\n",
    "multi_plot(focalplan_BC, \"FP BC\")\n",
    "multi_plot(focalplan_AC, \"FP AC\")\n",
    "multi_plot(B_Lyot, \"LP BL\")\n",
    "multi_plot(A_Lyot, \"LP AL\")\n",
    "multi_plot(screen, \"Screen\")\n",
    "\n",
    "print(\"PP=Pupil Plan, FP=Focal Plan, BC=Before Coronagraph, AC=Before Coronagraph, LP=LyotStop Plan, I=Intensity\")"
   ]
  },
  {
   "cell_type": "code",
   "execution_count": null,
   "id": "stylish-andrew",
   "metadata": {},
   "outputs": [],
   "source": []
  },
  {
   "cell_type": "code",
   "execution_count": null,
   "id": "retained-growing",
   "metadata": {},
   "outputs": [],
   "source": []
  },
  {
   "cell_type": "code",
   "execution_count": null,
   "id": "thirty-round",
   "metadata": {},
   "outputs": [],
   "source": []
  },
  {
   "cell_type": "code",
   "execution_count": null,
   "id": "controlling-diamond",
   "metadata": {},
   "outputs": [],
   "source": []
  }
 ],
 "metadata": {
  "celltoolbar": "Pièces jointes",
  "kernelspec": {
   "display_name": "Python 3",
   "language": "python",
   "name": "python3"
  },
  "language_info": {
   "codemirror_mode": {
    "name": "ipython",
    "version": 3
   },
   "file_extension": ".py",
   "mimetype": "text/x-python",
   "name": "python",
   "nbconvert_exporter": "python",
   "pygments_lexer": "ipython3",
   "version": "3.7.10"
  }
 },
 "nbformat": 4,
 "nbformat_minor": 5
}
